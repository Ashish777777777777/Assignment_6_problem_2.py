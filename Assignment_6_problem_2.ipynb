{
 "cells": [
  {
   "cell_type": "code",
   "execution_count": 2,
   "id": "64a447ac",
   "metadata": {},
   "outputs": [
    {
     "name": "stdout",
     "output_type": "stream",
     "text": [
      "Rusty is 3 years old.\n",
      "Rusty's coat color is Brown.\n",
      "Rex is 2 years old.\n",
      "Rex's coat color is White and Brown.\n",
      "Rex has a special trait: Excellent digging skills.\n",
      "Tank is 4 years old.\n",
      "Tank's coat color is Brindle.\n",
      "Tank has a strength level of High.\n"
     ]
    }
   ],
   "source": [
    "class Dog:\n",
    "    def __init__(self, name, age, coat_color):\n",
    "        self.name = name\n",
    "        self.age = age\n",
    "        self.coat_color = coat_color\n",
    "    \n",
    "    def description(self):\n",
    "        print(f\"{self.name} is {self.age} years old.\")\n",
    "\n",
    "    def get_info(self):\n",
    "        print(f\"{self.name}'s coat color is {self.coat_color}.\")\n",
    "\n",
    "\n",
    "class JackRussellTerrier(Dog):\n",
    "    def __init__(self, name, age, coat_color, special_trait):\n",
    "        super().__init__(name, age, coat_color)\n",
    "        self.special_trait = special_trait\n",
    "    \n",
    "    def special_ability(self):\n",
    "        print(f\"{self.name} has a special trait: {self.special_trait}.\")\n",
    "\n",
    "\n",
    "class Bulldog(Dog):\n",
    "    def __init__(self, name, age, coat_color, strength):\n",
    "        super().__init__(name, age, coat_color)\n",
    "        self.strength = strength\n",
    "    \n",
    "    def show_strength(self):\n",
    "        print(f\"{self.name} has a strength level of {self.strength}.\")\n",
    "\n",
    "\n",
    "# Creating objects and implementing functionalities\n",
    "dog1 = Dog(\"Rusty\", 3, \"Brown\")\n",
    "dog1.description()\n",
    "dog1.get_info()\n",
    "\n",
    "jack_russell = JackRussellTerrier(\"Rex\", 2, \"White and Brown\", \"Excellent digging skills\")\n",
    "jack_russell.description()\n",
    "jack_russell.get_info()\n",
    "jack_russell.special_ability()\n",
    "\n",
    "bulldog = Bulldog(\"Tank\", 4, \"Brindle\", \"High\")\n",
    "bulldog.description()\n",
    "bulldog.get_info()\n",
    "bulldog.show_strength()\n"
   ]
  },
  {
   "cell_type": "code",
   "execution_count": null,
   "id": "e471d68a",
   "metadata": {},
   "outputs": [],
   "source": []
  }
 ],
 "metadata": {
  "kernelspec": {
   "display_name": "Python 3 (ipykernel)",
   "language": "python",
   "name": "python3"
  },
  "language_info": {
   "codemirror_mode": {
    "name": "ipython",
    "version": 3
   },
   "file_extension": ".py",
   "mimetype": "text/x-python",
   "name": "python",
   "nbconvert_exporter": "python",
   "pygments_lexer": "ipython3",
   "version": "3.10.9"
  }
 },
 "nbformat": 4,
 "nbformat_minor": 5
}
